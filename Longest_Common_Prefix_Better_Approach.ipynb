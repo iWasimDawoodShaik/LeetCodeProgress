{
 "cells": [
  {
   "cell_type": "markdown",
   "id": "b57ceca3-eee2-470e-b916-a2c7fd278c81",
   "metadata": {},
   "source": [
    "## Time Complexity : O(nlogn)"
   ]
  },
  {
   "cell_type": "code",
   "execution_count": 2,
   "id": "43841c77-e62d-4938-aa58-ceed55f58740",
   "metadata": {},
   "outputs": [],
   "source": [
    "strs = [\"flower\",\"flow\",\"flight\"]"
   ]
  },
  {
   "cell_type": "code",
   "execution_count": 5,
   "id": "4597e42c-1aeb-4f6f-801f-952e6be880fa",
   "metadata": {},
   "outputs": [],
   "source": [
    "strs = [\"dog\",\"racecar\",\"car\"]"
   ]
  },
  {
   "cell_type": "code",
   "execution_count": 6,
   "id": "f7eb3001-7281-4d58-93d3-31333e8fb080",
   "metadata": {},
   "outputs": [
    {
     "name": "stdout",
     "output_type": "stream",
     "text": [
      "\n"
     ]
    }
   ],
   "source": [
    "strs_2 = sorted(strs)\n",
    "common = \"\"\n",
    "for i in range(len(strs_2[0])):\n",
    "    if (i >= len(strs_2[-1])) or (strs_2[0][i] != strs_2[-1][i]):\n",
    "        print(common)\n",
    "        break\n",
    "    else:\n",
    "        common +=  strs_2[0][i]\n",
    "else:\n",
    "    print(common)"
   ]
  },
  {
   "cell_type": "code",
   "execution_count": null,
   "id": "faff9d52-e720-4319-a933-10e00b577ca7",
   "metadata": {},
   "outputs": [],
   "source": []
  },
  {
   "cell_type": "code",
   "execution_count": null,
   "id": "bb7b9de1-58d5-4db8-9325-ffe5cbf5b264",
   "metadata": {},
   "outputs": [],
   "source": []
  },
  {
   "cell_type": "code",
   "execution_count": null,
   "id": "26ee1eaf-0d66-416c-b5c4-eb6554d47a63",
   "metadata": {},
   "outputs": [],
   "source": []
  },
  {
   "cell_type": "code",
   "execution_count": null,
   "id": "7ff9ecf2-0fb3-4f68-b6e0-06fdeaeae4dd",
   "metadata": {},
   "outputs": [],
   "source": []
  },
  {
   "cell_type": "code",
   "execution_count": null,
   "id": "439a266e-39b3-4098-8f37-aa53b0f047e2",
   "metadata": {},
   "outputs": [],
   "source": []
  },
  {
   "cell_type": "code",
   "execution_count": null,
   "id": "a5c3e92e-421f-4e27-9d0c-e1845d8299b1",
   "metadata": {},
   "outputs": [],
   "source": []
  },
  {
   "cell_type": "code",
   "execution_count": null,
   "id": "8e879c6b-8f78-4d13-b9e8-fa8a73238626",
   "metadata": {},
   "outputs": [],
   "source": []
  },
  {
   "cell_type": "code",
   "execution_count": null,
   "id": "359149f9-6b83-45b2-99c5-fd3c9835cee3",
   "metadata": {},
   "outputs": [],
   "source": []
  }
 ],
 "metadata": {
  "kernelspec": {
   "display_name": "Python 3 (ipykernel)",
   "language": "python",
   "name": "python3"
  },
  "language_info": {
   "codemirror_mode": {
    "name": "ipython",
    "version": 3
   },
   "file_extension": ".py",
   "mimetype": "text/x-python",
   "name": "python",
   "nbconvert_exporter": "python",
   "pygments_lexer": "ipython3",
   "version": "3.12.0"
  }
 },
 "nbformat": 4,
 "nbformat_minor": 5
}
