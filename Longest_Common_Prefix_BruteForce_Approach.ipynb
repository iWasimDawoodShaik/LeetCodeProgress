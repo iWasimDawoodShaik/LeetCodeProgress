{
 "cells": [
  {
   "cell_type": "markdown",
   "id": "199e609d-e4c0-4be9-8157-ff450cc7cf9d",
   "metadata": {},
   "source": [
    "## Time Complexity : O(nm)"
   ]
  },
  {
   "cell_type": "code",
   "execution_count": 9,
   "id": "58749972-4ebf-424d-9fe6-392bec5bdb24",
   "metadata": {},
   "outputs": [],
   "source": [
    "strs = [\"flower\",\"flow\",\"flight\"]"
   ]
  },
  {
   "cell_type": "code",
   "execution_count": 11,
   "id": "eccbfa5e-cf28-4833-b5fe-bd664f75f3d3",
   "metadata": {},
   "outputs": [],
   "source": [
    "strs = [\"dog\",\"racecar\",\"car\"]"
   ]
  },
  {
   "cell_type": "code",
   "execution_count": 12,
   "id": "f24b9c0b-e1b3-4493-8483-a1b7a6b31040",
   "metadata": {},
   "outputs": [
    {
     "name": "stdout",
     "output_type": "stream",
     "text": [
      "\n"
     ]
    }
   ],
   "source": [
    "common = \"\"\n",
    "flag = False\n",
    "for i in range(len(strs[0])):\n",
    "    for string in strs[1:]:\n",
    "        if (i >= len(string)) or (strs[0][i] != string[i]):\n",
    "            print(common)\n",
    "            flag =  True\n",
    "            break\n",
    "    else:\n",
    "        common += strs[0][i]\n",
    "    if flag == True:\n",
    "        break\n",
    "else:\n",
    "    print(common)            "
   ]
  },
  {
   "cell_type": "code",
   "execution_count": null,
   "id": "143cf458-292d-49a9-a864-c4c2e1258b7f",
   "metadata": {},
   "outputs": [],
   "source": []
  },
  {
   "cell_type": "code",
   "execution_count": null,
   "id": "d68a4054-952e-4e07-8ff0-d5423e2e5c18",
   "metadata": {},
   "outputs": [],
   "source": []
  },
  {
   "cell_type": "code",
   "execution_count": null,
   "id": "6f59d7ec-c6be-4315-a979-2609c708768e",
   "metadata": {},
   "outputs": [],
   "source": []
  },
  {
   "cell_type": "code",
   "execution_count": null,
   "id": "4c4bf72c-8f10-4105-ad7d-247ce6b3ffc8",
   "metadata": {},
   "outputs": [],
   "source": []
  },
  {
   "cell_type": "code",
   "execution_count": null,
   "id": "75a59bfd-af70-4ca8-b2bc-bc0c103ddb38",
   "metadata": {},
   "outputs": [],
   "source": []
  }
 ],
 "metadata": {
  "kernelspec": {
   "display_name": "Python 3 (ipykernel)",
   "language": "python",
   "name": "python3"
  },
  "language_info": {
   "codemirror_mode": {
    "name": "ipython",
    "version": 3
   },
   "file_extension": ".py",
   "mimetype": "text/x-python",
   "name": "python",
   "nbconvert_exporter": "python",
   "pygments_lexer": "ipython3",
   "version": "3.12.0"
  }
 },
 "nbformat": 4,
 "nbformat_minor": 5
}
