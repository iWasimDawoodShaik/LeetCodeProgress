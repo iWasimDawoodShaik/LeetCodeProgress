{
 "cells": [
  {
   "cell_type": "markdown",
   "id": "ccfd63d9-81e5-405e-a858-59b2cffddf0b",
   "metadata": {},
   "source": [
    "## Time Complexity : O(n)"
   ]
  },
  {
   "cell_type": "code",
   "execution_count": 1,
   "id": "e49a0507-af47-4af1-8345-6187a6036f3c",
   "metadata": {},
   "outputs": [],
   "source": [
    "x = 121"
   ]
  },
  {
   "cell_type": "code",
   "execution_count": 2,
   "id": "78c14f78-7983-4449-9501-ad43f80c8290",
   "metadata": {},
   "outputs": [],
   "source": [
    "x = -121"
   ]
  },
  {
   "cell_type": "code",
   "execution_count": 4,
   "id": "245c359f-b5f8-488c-90e7-fec21cb7bbd8",
   "metadata": {},
   "outputs": [],
   "source": [
    "x = 10"
   ]
  },
  {
   "cell_type": "code",
   "execution_count": 5,
   "id": "9e02fd0e-6193-43d9-bbb5-36ba2e7df45f",
   "metadata": {},
   "outputs": [
    {
     "name": "stdout",
     "output_type": "stream",
     "text": [
      "False\n"
     ]
    }
   ],
   "source": [
    "if x < 0:\n",
    "    print(False)\n",
    "else:\n",
    "    temp = x\n",
    "    rev_num = 0\n",
    "    while temp != 0:\n",
    "        rem = temp % 10\n",
    "        rev_num = rev_num * 10 + rem\n",
    "        temp //= 10\n",
    "    if rev_num == x:\n",
    "        print(True)\n",
    "    else:\n",
    "        print(False)\n"
   ]
  },
  {
   "cell_type": "code",
   "execution_count": null,
   "id": "f901a78b-141c-4325-8310-8b5681a9c6d4",
   "metadata": {},
   "outputs": [],
   "source": []
  }
 ],
 "metadata": {
  "kernelspec": {
   "display_name": "Python 3 (ipykernel)",
   "language": "python",
   "name": "python3"
  },
  "language_info": {
   "codemirror_mode": {
    "name": "ipython",
    "version": 3
   },
   "file_extension": ".py",
   "mimetype": "text/x-python",
   "name": "python",
   "nbconvert_exporter": "python",
   "pygments_lexer": "ipython3",
   "version": "3.12.0"
  }
 },
 "nbformat": 4,
 "nbformat_minor": 5
}
