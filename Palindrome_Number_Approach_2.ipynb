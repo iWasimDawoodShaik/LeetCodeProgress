{
 "cells": [
  {
   "cell_type": "markdown",
   "id": "4e944b1e-8829-49f3-a16a-7fd735d1aeeb",
   "metadata": {},
   "source": [
    "## Time Complexity : O(n)"
   ]
  },
  {
   "cell_type": "code",
   "execution_count": 4,
   "id": "3eb1427a-3060-4259-8d16-d2fb448c1af7",
   "metadata": {},
   "outputs": [],
   "source": [
    "x = 121"
   ]
  },
  {
   "cell_type": "code",
   "execution_count": 6,
   "id": "faa53192-fbd3-4fca-baa8-e541ff877fbe",
   "metadata": {},
   "outputs": [],
   "source": [
    "x = -121"
   ]
  },
  {
   "cell_type": "code",
   "execution_count": 8,
   "id": "e9e28030-5b30-42e5-9355-6e60750ebf20",
   "metadata": {},
   "outputs": [],
   "source": [
    "x = 10"
   ]
  },
  {
   "cell_type": "code",
   "execution_count": 9,
   "id": "e978b1ae-5755-4fec-9562-6e300dfefbbd",
   "metadata": {},
   "outputs": [
    {
     "name": "stdout",
     "output_type": "stream",
     "text": [
      "False\n"
     ]
    }
   ],
   "source": [
    "if x < 0:\n",
    "    print(False)\n",
    "else:\n",
    "    n = 0\n",
    "    while x >= 10 ** n:\n",
    "        n += 1\n",
    "    n -= 1\n",
    "    num = 10 ** n\n",
    "    while x != 0:\n",
    "        l = x // num\n",
    "        r = x % 10\n",
    "        if l != r:\n",
    "            print(False)\n",
    "            break\n",
    "        x %= num\n",
    "        x //=10\n",
    "        num //= 100\n",
    "    else:\n",
    "        print(True)"
   ]
  },
  {
   "cell_type": "code",
   "execution_count": null,
   "id": "91454fe4-c644-4c43-b25a-7b490e962555",
   "metadata": {},
   "outputs": [],
   "source": []
  },
  {
   "cell_type": "code",
   "execution_count": null,
   "id": "2636b930-9568-461f-9715-66329b103fe3",
   "metadata": {},
   "outputs": [],
   "source": []
  },
  {
   "cell_type": "code",
   "execution_count": null,
   "id": "c3174bc7-04f3-4e9d-8f7c-0fb65b91e3f3",
   "metadata": {},
   "outputs": [],
   "source": []
  },
  {
   "cell_type": "code",
   "execution_count": null,
   "id": "a271a6c8-79aa-4dc3-9e25-19e65e17adc9",
   "metadata": {},
   "outputs": [],
   "source": []
  },
  {
   "cell_type": "code",
   "execution_count": null,
   "id": "4a3cd427-c7d9-466e-b405-aec620a58a4c",
   "metadata": {},
   "outputs": [],
   "source": []
  },
  {
   "cell_type": "code",
   "execution_count": null,
   "id": "8c5b9791-40df-4b4c-a090-5743b4d1bf11",
   "metadata": {},
   "outputs": [],
   "source": []
  }
 ],
 "metadata": {
  "kernelspec": {
   "display_name": "Python 3 (ipykernel)",
   "language": "python",
   "name": "python3"
  },
  "language_info": {
   "codemirror_mode": {
    "name": "ipython",
    "version": 3
   },
   "file_extension": ".py",
   "mimetype": "text/x-python",
   "name": "python",
   "nbconvert_exporter": "python",
   "pygments_lexer": "ipython3",
   "version": "3.12.0"
  }
 },
 "nbformat": 4,
 "nbformat_minor": 5
}
