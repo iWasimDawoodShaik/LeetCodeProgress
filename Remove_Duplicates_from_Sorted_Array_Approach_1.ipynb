{
 "cells": [
  {
   "cell_type": "markdown",
   "id": "5e84f606-e79f-434b-8b89-51f50b7f0cbb",
   "metadata": {},
   "source": [
    "## Time Complexity : O(n)"
   ]
  },
  {
   "cell_type": "code",
   "execution_count": 39,
   "id": "b5460ea0-f4c1-413e-ba1d-562eade3930a",
   "metadata": {},
   "outputs": [],
   "source": [
    "nums = [1,1,2]"
   ]
  },
  {
   "cell_type": "code",
   "execution_count": 42,
   "id": "c259bb68-dae0-45a2-bbca-f3514820eaaf",
   "metadata": {},
   "outputs": [],
   "source": [
    "nums = [0,0,1,1,1,2,2,3,3,4]"
   ]
  },
  {
   "cell_type": "code",
   "execution_count": 45,
   "id": "aeeda80a-f185-4ae1-909b-20d458f5773d",
   "metadata": {},
   "outputs": [],
   "source": [
    "nums = [1,2,2]"
   ]
  },
  {
   "cell_type": "code",
   "execution_count": 46,
   "id": "c25e828c-73d1-471e-9f6b-6b4c03b024dd",
   "metadata": {},
   "outputs": [],
   "source": [
    "def removeDuplicates(nums):\n",
    "    l = 1\n",
    "    r = 1\n",
    "    while r < len(nums):\n",
    "        if (nums[r] != nums[r-1]):\n",
    "            nums[l] = nums[r]\n",
    "            l += 1\n",
    "        r += 1\n",
    "    return l, nums"
   ]
  },
  {
   "cell_type": "code",
   "execution_count": 47,
   "id": "b7db1aa5-3469-47b7-8bc5-96c2591449de",
   "metadata": {},
   "outputs": [
    {
     "data": {
      "text/plain": [
       "(2, [1, 2, 2])"
      ]
     },
     "execution_count": 47,
     "metadata": {},
     "output_type": "execute_result"
    }
   ],
   "source": [
    "removeDuplicates(nums)"
   ]
  },
  {
   "cell_type": "code",
   "execution_count": null,
   "id": "c8298943-c16d-4e39-a22c-f8a88e15069c",
   "metadata": {},
   "outputs": [],
   "source": []
  },
  {
   "cell_type": "code",
   "execution_count": null,
   "id": "e6bbf8e7-4c82-4ab1-934a-46019fdede5e",
   "metadata": {},
   "outputs": [],
   "source": []
  },
  {
   "cell_type": "code",
   "execution_count": null,
   "id": "6b80af92-2551-4808-9506-7741ec12a591",
   "metadata": {},
   "outputs": [],
   "source": []
  }
 ],
 "metadata": {
  "kernelspec": {
   "display_name": "Python 3 (ipykernel)",
   "language": "python",
   "name": "python3"
  },
  "language_info": {
   "codemirror_mode": {
    "name": "ipython",
    "version": 3
   },
   "file_extension": ".py",
   "mimetype": "text/x-python",
   "name": "python",
   "nbconvert_exporter": "python",
   "pygments_lexer": "ipython3",
   "version": "3.12.0"
  }
 },
 "nbformat": 4,
 "nbformat_minor": 5
}
