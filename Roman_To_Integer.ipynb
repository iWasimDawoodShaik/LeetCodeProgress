{
 "cells": [
  {
   "cell_type": "markdown",
   "id": "477c86db-7420-48cb-ba56-d00f6f4d0794",
   "metadata": {},
   "source": [
    "## Time Complexity : O(n)"
   ]
  },
  {
   "cell_type": "code",
   "execution_count": 2,
   "id": "18a60e05-b763-4b32-9754-0ab863f7ea60",
   "metadata": {},
   "outputs": [],
   "source": [
    "s = \"III\""
   ]
  },
  {
   "cell_type": "code",
   "execution_count": 4,
   "id": "c85d9d73-40a3-4e28-b149-3c4ecd001efd",
   "metadata": {},
   "outputs": [],
   "source": [
    "s = \"LVIII\""
   ]
  },
  {
   "cell_type": "code",
   "execution_count": 6,
   "id": "d70dd53f-7642-4f14-9729-c0d3bd991873",
   "metadata": {},
   "outputs": [],
   "source": [
    "s = \"MCMXCIV\""
   ]
  },
  {
   "cell_type": "code",
   "execution_count": 7,
   "id": "db54729e-19f4-445b-bd8b-e99f588e724b",
   "metadata": {},
   "outputs": [
    {
     "name": "stdout",
     "output_type": "stream",
     "text": [
      "1994\n"
     ]
    }
   ],
   "source": [
    "d = {'I':1, 'V':5, 'X':10, 'L':50, 'C':100, 'D':500, 'M':1000}\n",
    "value = 0\n",
    "for i in range(len(s)):\n",
    "    if (i < (len(s)-1)) and (d[s[i]] < d[s[i+1]]):\n",
    "        value -= d[s[i]]\n",
    "    else:\n",
    "        value += d[s[i]]\n",
    "print(value)"
   ]
  },
  {
   "cell_type": "code",
   "execution_count": null,
   "id": "66a1b31b-9bf6-4499-a526-a84c95d24ba5",
   "metadata": {},
   "outputs": [],
   "source": []
  }
 ],
 "metadata": {
  "kernelspec": {
   "display_name": "Python 3 (ipykernel)",
   "language": "python",
   "name": "python3"
  },
  "language_info": {
   "codemirror_mode": {
    "name": "ipython",
    "version": 3
   },
   "file_extension": ".py",
   "mimetype": "text/x-python",
   "name": "python",
   "nbconvert_exporter": "python",
   "pygments_lexer": "ipython3",
   "version": "3.12.0"
  }
 },
 "nbformat": 4,
 "nbformat_minor": 5
}
