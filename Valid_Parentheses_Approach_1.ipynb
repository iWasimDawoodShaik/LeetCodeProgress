{
 "cells": [
  {
   "cell_type": "markdown",
   "id": "62935818-3f0e-4e21-bef3-a43287fc39c4",
   "metadata": {},
   "source": [
    "## Time Complexity : O(n)"
   ]
  },
  {
   "cell_type": "code",
   "execution_count": 7,
   "id": "acbb6d0c-feb3-4e80-afff-e7364a9c9981",
   "metadata": {},
   "outputs": [],
   "source": [
    "s = \"()\""
   ]
  },
  {
   "cell_type": "code",
   "execution_count": 9,
   "id": "545418cc-bce4-45d2-878f-df4b4164b867",
   "metadata": {},
   "outputs": [],
   "source": [
    "s = \"()[]{}\""
   ]
  },
  {
   "cell_type": "code",
   "execution_count": 11,
   "id": "97499350-53e7-4c29-a588-8bc9f4cbda6f",
   "metadata": {},
   "outputs": [],
   "source": [
    "s = \"(]\""
   ]
  },
  {
   "cell_type": "code",
   "execution_count": 13,
   "id": "675ba2d0-4983-477f-8096-c1cdee339f74",
   "metadata": {},
   "outputs": [],
   "source": [
    "s = \"([])\""
   ]
  },
  {
   "cell_type": "code",
   "execution_count": 5,
   "id": "c6ff8fae-d271-4f7c-b039-e85a7ae3637b",
   "metadata": {},
   "outputs": [],
   "source": [
    "def isValid(s):\n",
    "    d = {\")\":\"(\", \"}\":\"{\", \"]\":\"[\"}\n",
    "    stack = []\n",
    "    for i in s:\n",
    "        if i in d:\n",
    "            if (len(stack) > 0) and (stack[-1] == d[i]):\n",
    "                stack.pop()\n",
    "            else:\n",
    "                return False\n",
    "        else:\n",
    "            stack.append(i)\n",
    "    else:\n",
    "        if len(stack) == 0:\n",
    "            return True\n",
    "        else:\n",
    "            return False"
   ]
  },
  {
   "cell_type": "code",
   "execution_count": 14,
   "id": "4a57881e-2e67-4a73-8460-a5fe90f0c377",
   "metadata": {},
   "outputs": [
    {
     "data": {
      "text/plain": [
       "True"
      ]
     },
     "execution_count": 14,
     "metadata": {},
     "output_type": "execute_result"
    }
   ],
   "source": [
    "isValid(s)"
   ]
  },
  {
   "cell_type": "code",
   "execution_count": null,
   "id": "db05df62-821c-4e4a-991b-7429e742d974",
   "metadata": {},
   "outputs": [],
   "source": []
  },
  {
   "cell_type": "code",
   "execution_count": null,
   "id": "30626f2b-e6cb-4015-a575-a25e60a813aa",
   "metadata": {},
   "outputs": [],
   "source": []
  },
  {
   "cell_type": "code",
   "execution_count": null,
   "id": "9fcf7d30-d23a-43d9-967f-efd50416a124",
   "metadata": {},
   "outputs": [],
   "source": []
  },
  {
   "cell_type": "code",
   "execution_count": null,
   "id": "829f28ee-aa60-4d8e-b6cc-bf516c993536",
   "metadata": {},
   "outputs": [],
   "source": []
  },
  {
   "cell_type": "code",
   "execution_count": null,
   "id": "b8b74dc8-55be-4846-b395-8a4e7595a1a9",
   "metadata": {},
   "outputs": [],
   "source": []
  },
  {
   "cell_type": "code",
   "execution_count": null,
   "id": "2436f2df-8428-4a68-9e11-fd612998de9d",
   "metadata": {},
   "outputs": [],
   "source": []
  },
  {
   "cell_type": "code",
   "execution_count": null,
   "id": "645df0b3-b391-473d-b3ca-475aa19e3aaf",
   "metadata": {},
   "outputs": [],
   "source": []
  },
  {
   "cell_type": "code",
   "execution_count": null,
   "id": "d5a615ca-c646-45b1-8ccf-22682b61c0bc",
   "metadata": {},
   "outputs": [],
   "source": []
  },
  {
   "cell_type": "code",
   "execution_count": null,
   "id": "cc5d530f-8f86-44f5-bf39-11ffed0e0e78",
   "metadata": {},
   "outputs": [],
   "source": []
  }
 ],
 "metadata": {
  "kernelspec": {
   "display_name": "Python 3 (ipykernel)",
   "language": "python",
   "name": "python3"
  },
  "language_info": {
   "codemirror_mode": {
    "name": "ipython",
    "version": 3
   },
   "file_extension": ".py",
   "mimetype": "text/x-python",
   "name": "python",
   "nbconvert_exporter": "python",
   "pygments_lexer": "ipython3",
   "version": "3.12.0"
  }
 },
 "nbformat": 4,
 "nbformat_minor": 5
}
