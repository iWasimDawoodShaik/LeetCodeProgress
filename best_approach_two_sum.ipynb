{
 "cells": [
  {
   "cell_type": "markdown",
   "id": "389a554b-47c1-49a7-8e2b-e50a58a6445e",
   "metadata": {},
   "source": [
    "# Best Approach - Two Sum - HashMaps\n",
    "## Time Complexity - O(n)\n",
    "## Space Complextity - O(n)"
   ]
  },
  {
   "cell_type": "code",
   "execution_count": 3,
   "id": "5c5ba78f-e658-4594-830e-4301081ab4c8",
   "metadata": {},
   "outputs": [],
   "source": [
    "nums = [2,7,11,15]\n",
    "target = 9"
   ]
  },
  {
   "cell_type": "code",
   "execution_count": 4,
   "id": "87371a91-a077-4d4d-b734-5400621f741c",
   "metadata": {},
   "outputs": [
    {
     "name": "stdout",
     "output_type": "stream",
     "text": [
      "1 0\n"
     ]
    }
   ],
   "source": [
    "d = {}\n",
    "for i in range(len(nums)):\n",
    "    if (target - nums[i]) not in d:\n",
    "        d[nums[i]] = i\n",
    "    else:\n",
    "        print(i, d[target - nums[i]])"
   ]
  },
  {
   "cell_type": "code",
   "execution_count": null,
   "id": "08176239-5cb9-4280-8dac-691fb409f3d5",
   "metadata": {},
   "outputs": [],
   "source": []
  },
  {
   "cell_type": "code",
   "execution_count": null,
   "id": "0c2febd8-b880-4398-9a97-16ab6edd9da0",
   "metadata": {},
   "outputs": [],
   "source": []
  },
  {
   "cell_type": "code",
   "execution_count": null,
   "id": "fa2c5f73-2c11-4b1d-81dd-6bfb2956676d",
   "metadata": {},
   "outputs": [],
   "source": []
  },
  {
   "cell_type": "code",
   "execution_count": null,
   "id": "ae00be67-834f-41d9-9164-e071618039bc",
   "metadata": {},
   "outputs": [],
   "source": []
  },
  {
   "cell_type": "code",
   "execution_count": null,
   "id": "aa55d9c4-7b06-4717-9d08-446f6139b60d",
   "metadata": {},
   "outputs": [],
   "source": []
  }
 ],
 "metadata": {
  "kernelspec": {
   "display_name": "Python 3 (ipykernel)",
   "language": "python",
   "name": "python3"
  },
  "language_info": {
   "codemirror_mode": {
    "name": "ipython",
    "version": 3
   },
   "file_extension": ".py",
   "mimetype": "text/x-python",
   "name": "python",
   "nbconvert_exporter": "python",
   "pygments_lexer": "ipython3",
   "version": "3.12.0"
  }
 },
 "nbformat": 4,
 "nbformat_minor": 5
}
