{
 "cells": [
  {
   "cell_type": "markdown",
   "id": "9cafb4c7-f6c9-446c-a13c-2e839f3da00b",
   "metadata": {},
   "source": [
    "# Better Approach - Two Sum - Sorting and Using Pointers\n",
    "## Time Complexity - O(nlongn)"
   ]
  },
  {
   "cell_type": "code",
   "execution_count": 1,
   "id": "a68fd4fd-0dbd-463a-9504-7b54444e4a28",
   "metadata": {},
   "outputs": [],
   "source": [
    "nums = [2,7,11,15]\n",
    "target = 9"
   ]
  },
  {
   "cell_type": "code",
   "execution_count": 2,
   "id": "5216529f-dfd1-47d2-8a29-13aed223738a",
   "metadata": {},
   "outputs": [],
   "source": [
    "nums.sort()"
   ]
  },
  {
   "cell_type": "code",
   "execution_count": 3,
   "id": "a556e736-1e53-46b2-ab84-d4a2ef5296d5",
   "metadata": {},
   "outputs": [
    {
     "data": {
      "text/plain": [
       "[2, 7, 11, 15]"
      ]
     },
     "execution_count": 3,
     "metadata": {},
     "output_type": "execute_result"
    }
   ],
   "source": [
    "nums"
   ]
  },
  {
   "cell_type": "code",
   "execution_count": 4,
   "id": "61cf7846-9694-4774-b22b-a39d996e63a6",
   "metadata": {},
   "outputs": [
    {
     "name": "stdout",
     "output_type": "stream",
     "text": [
      "0 1\n"
     ]
    }
   ],
   "source": [
    "i = 0\n",
    "j = len(nums) - 1\n",
    "while i != j:\n",
    "    if nums[i] + nums[j] < target:\n",
    "        i += 1\n",
    "    if nums[i] + nums[j] > target:\n",
    "        j -= 1\n",
    "    if nums[i] + nums[j] == target:\n",
    "        print(i,j)\n",
    "        break\n",
    "else:\n",
    "    print('No Solution Found')"
   ]
  },
  {
   "cell_type": "code",
   "execution_count": null,
   "id": "4efbe68b-4296-4e11-9102-586e36b3fbd0",
   "metadata": {},
   "outputs": [],
   "source": []
  },
  {
   "cell_type": "code",
   "execution_count": null,
   "id": "a262cfc8-4577-4348-a4f1-2545839f1656",
   "metadata": {},
   "outputs": [],
   "source": []
  },
  {
   "cell_type": "code",
   "execution_count": null,
   "id": "3c7b4f9c-27cd-46e2-8b82-dc14dc06d462",
   "metadata": {},
   "outputs": [],
   "source": []
  },
  {
   "cell_type": "code",
   "execution_count": null,
   "id": "6d51698d-9df0-47c1-84bd-c1a0571959b6",
   "metadata": {},
   "outputs": [],
   "source": []
  },
  {
   "cell_type": "code",
   "execution_count": null,
   "id": "7fe40085-8818-441f-9899-ada20cf42d09",
   "metadata": {},
   "outputs": [],
   "source": []
  }
 ],
 "metadata": {
  "kernelspec": {
   "display_name": "Python 3 (ipykernel)",
   "language": "python",
   "name": "python3"
  },
  "language_info": {
   "codemirror_mode": {
    "name": "ipython",
    "version": 3
   },
   "file_extension": ".py",
   "mimetype": "text/x-python",
   "name": "python",
   "nbconvert_exporter": "python",
   "pygments_lexer": "ipython3",
   "version": "3.12.0"
  }
 },
 "nbformat": 4,
 "nbformat_minor": 5
}
