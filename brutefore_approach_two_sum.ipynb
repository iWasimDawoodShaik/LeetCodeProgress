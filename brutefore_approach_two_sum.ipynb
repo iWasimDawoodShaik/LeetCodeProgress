{
 "cells": [
  {
   "cell_type": "markdown",
   "id": "5d97a248-b9f6-45c7-9459-896dce079ca4",
   "metadata": {},
   "source": [
    "# Two Sums - Bruteforce Approach\n",
    "## Time Complexity - O(n**2)"
   ]
  },
  {
   "cell_type": "code",
   "execution_count": 6,
   "id": "a17d95dc-b572-4e74-8e49-f04f5c6fdf65",
   "metadata": {},
   "outputs": [],
   "source": [
    "nums = [2,7,11,15]\n",
    "target = 9"
   ]
  },
  {
   "cell_type": "code",
   "execution_count": 7,
   "id": "a2c7abbb-6a1f-4402-b4ae-a4e29140db4b",
   "metadata": {},
   "outputs": [
    {
     "name": "stdout",
     "output_type": "stream",
     "text": [
      "0 1\n"
     ]
    }
   ],
   "source": [
    "flag = True\n",
    "for i in range(len(nums)-1):\n",
    "    for j in range(i+1,len(nums)):\n",
    "        if nums[i] + nums[j] == target:\n",
    "            print(i,j)\n",
    "            flag = False\n",
    "            break\n",
    "if flag:\n",
    "    print('No Solution Found')"
   ]
  },
  {
   "cell_type": "code",
   "execution_count": null,
   "id": "b0746e97-b0c1-4d44-b3c8-000eb054f623",
   "metadata": {},
   "outputs": [],
   "source": []
  },
  {
   "cell_type": "code",
   "execution_count": null,
   "id": "be5263c7-9bb0-4fb1-b040-fa6c7ca52ee9",
   "metadata": {},
   "outputs": [],
   "source": []
  }
 ],
 "metadata": {
  "kernelspec": {
   "display_name": "Python 3 (ipykernel)",
   "language": "python",
   "name": "python3"
  },
  "language_info": {
   "codemirror_mode": {
    "name": "ipython",
    "version": 3
   },
   "file_extension": ".py",
   "mimetype": "text/x-python",
   "name": "python",
   "nbconvert_exporter": "python",
   "pygments_lexer": "ipython3",
   "version": "3.12.0"
  }
 },
 "nbformat": 4,
 "nbformat_minor": 5
}
